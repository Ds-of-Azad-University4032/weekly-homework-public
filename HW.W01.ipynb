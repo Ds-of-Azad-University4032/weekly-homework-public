{
 "cells": [
  {
   "attachments": {},
   "cell_type": "markdown",
   "id": "9e84f6bf-6af7-4c4e-ab1f-4c3826373f0d",
   "metadata": {},
   "source": [
    "<div style=\"direction:rtl;line-height:300%;\"><font face=\"XB Zar\" size=5>\n",
    "<div style=\"direction:rtl;line-height:300%;\"><font face=\"XB Zar\" size=5>\n",
    "<div align=center>\n",
    "<font color=#FF7500>\n",
    "دانشگاه آزاد اسلامی شیراز - دانشکده مهندسی کامپیوتر\n",
    "</font>\n",
    "<br>\n",
    "<font color=blue>\n",
    "ساختمان داده ها \n",
    "</font>\n",
    "<br>\n",
    "<font>\n",
    "استاد : دکتر اسکندری  \n",
    "</font>\n",
    "<br>    \n",
    "ترم اول سال تحصیلی 1403-1404\n",
    "</div>\n",
    "<hr/>\n",
    "<font color=red size=6>\n",
    "<p></p>\n",
    "\n",
    "<div align=center>هفته اول (مباحث : Sorting Algorithms)</div>\n",
    "</font>\n",
    "<div align=center>\n",
    "گرد آورندگان : امیر حسین همتی ، حمید رضا نامجومنش</div>\n",
    "<hr>\n",
    "</font></div>\n"
   ]
  },
  {
   "cell_type": "markdown",
   "id": "d484c10a-5403-4d78-ae9c-f7b03cf19627",
   "metadata": {},
   "source": [
    "<div style=\"direction:rtl;line-height:300%;\"><font face=\"XB Zar\" size=5>\n",
    "<div style=\"direction:rtl;line-height:300%;\"><font face=\"XB Zar\" size=5>\n",
    "<div align=center>\n",
    "<font face=\"IranNastaliq\" size=30>\n",
    "<p></p>\n",
    "توضیحات :\n",
    "</font>\n",
    "<br>\n",
    "<hr/>"
   ]
  },
  {
   "cell_type": "markdown",
   "id": "78a8337c-0f14-4ccf-bbbf-c96a449f69ef",
   "metadata": {},
   "source": [
    "<div style=\"direction:rtl;line-height:300%;\"><font face=\"XB Zar\" size=5>\n",
    "<div style=\"direction:rtl;line-height:300%;\"><font face=\"XB Zar\" size=5>\n",
    "<div align=right>\n",
    "    <img align=\"center\" src=\"01 open ai.png\" alt=\"legal oepn ai\"  style=\"width: 100px\" ></div>\n",
    "    <div>\n",
    "    در صورت مشاهده لوگوی سبز open ai  در بالای سوال خود شما می توانید از هوش مصنوعی در پاسخ به سوال خود استفاده کنید اما باید سوالی را که از هوش مصنوعی پرسیدید اسکرین شات گرفته و در پاسخنامه خود قرار دهید.\n",
    "    </div>\n",
    "    \n",
    "<div align=right>\n",
    "    <img align=\"center\" src=\"02 open ai.png\" alt=\"illegal oepn ai\"  style=\"width: 100px\" ></div>\n",
    "    <div>\n",
    "    در صورت مشاهده لوگوی قرمز  open ai  در بالای سوال خود شما نمی توانید از هوش مصنوعی در پاسخ به سوال خود استفاده کنید و باید با دانش خود به این سئوال پاسخ دهید.\n",
    "    </div>\n",
    "  \n",
    "\n",
    "<hr/>\n",
    "</body>"
   ]
  },
  {
   "cell_type": "markdown",
   "id": "eb27d250-b218-4153-a4f2-d8f90855d56e",
   "metadata": {},
   "source": [
    "<div style=\"direction:rtl;line-height:300%;\"><font face=\"XB Zar\" size=5>\n",
    "<div style=\"direction:rtl;line-height:300%;\"><font face=\"XB Zar\" size=5>\n",
    "<div align=center>\n",
    "<font face=\"IranNastaliq\" size=30>\n",
    "<p></p>\n",
    "سوالات : \n",
    "</font>\n",
    "<br>"
   ]
  },
  {
   "cell_type": "markdown",
   "id": "67ddee59-55bb-44c5-a260-632a9a89a32d",
   "metadata": {},
   "source": [
    "<div style=\"direction:rtl;line-height:300%;\"><font face=\"XB Zar\" size=5>\n",
    "\n",
    "<div align=right>\n",
    "    <img align=\"center\" src=\"02 open ai.png\" alt=\"illegal oepn ai\"  style=\"width: 100px\" ></div>\n",
    "<div align=right>\n",
    "    سوال 1 : مفاهیم مرتب سازی های زیر را توضیح دهید و یک مثال برای هر کدام ارائه دهید .\n",
    "    </div>\n",
    "<div style=\"direction:rtl;line-height:300%;\"><font face=\"XB Zar\" size=3>    \n",
    "<div align= right>\n",
    "<ul style=\"margin-right: 0;\">\n",
    "    <li> مرتب سازی پایدار (Stable sort)</li>\n",
    "    <li>مرتب سازی ناپایدار (Unstable sort)</li>\n",
    "    <li>مرتب سازی درجا (In Place Sort)</li>\n",
    "    <li>مرتب سازی خارج از جا (Out Of Place Sort)</li>\n",
    "</ul>\n",
    "</div>"
   ]
  },
  {
   "cell_type": "markdown",
   "id": "09e0484b-9c09-4178-a294-6bc3b1cfa5b5",
   "metadata": {},
   "source": [
    "<>\n",
    "<div style=\"direction:rtl;line-height:300%;\"><font face=\"XB Zar\" size=5>\n",
    "<div align=right>\n",
    "    <img align=\"center\" src=\"02 open ai.png\" alt=\"illegal oepn ai\"  style=\"width: 100px\" ></div>\n",
    "<div align=right>\n",
    "    سوال 2 :درﺳﺘﯽ ﻳﺎ ﻧﺎدرﺳﺘﯽ ﻋﺒﺎرات را ﻣﺸﺨﺺ ﮐﻨﻴﺪ. علت جواب خود را توجیه کنید.\n",
    "</div>\n",
    "    \n",
    "<div style=\"direction:rtl;line-height:300%;\"><font face=\"XB Zar\" size=3>    \n",
    "<ul style=\"margin-right: 0;\">\n",
    "    <li>1. مرتب‌سازی شمارشی (Counting Sort) تنها زمانی کارآمد است که محدوده‌ی مقادیر عناصر در آرایه کوچک باشد. </li>\n",
    "    <li>2. اگر يک آرايه مرتب شده را به يک الگوريتم مرتب سازی درجا (in place) بدهيم، هيچ تغييری بر روی آرايه اعمال نمی شود.</li>\n",
    "    <li>3. در مرتب سازی مبنایی (radix sort ) می توان از هر الگوریتم درستی برای مرتب کردن هر رقم استفاده کرد.</li>\n",
    "   \n",
    "</ul>\n",
    "    </div>"
   ]
  },
  {
   "cell_type": "markdown",
   "id": "47e850da-dc99-43e7-99a4-1fc7ddab1199",
   "metadata": {},
   "source": [
    "<div style=\"direction:rtl;line-height:300%;\"><font face=\"XB Zar\" size=5>\n",
    "<div align=right>\n",
    "    <img align=\"center\" src=\"01 open ai.png\" alt=\"legal oepn ai\"  style=\"width: 100px\" ></div>\n",
    "<div align=right>\n",
    "    سوال 3 : الگوریتم مرتب سازی شمارشی (counting sort) نمی تواند اعداد منفی را پوشش دهد . آیا شما می توانید طوری الگوریتم (counting sort) را پیاده سازی کنید که اعداد منفی را پوشش دهد ؟ \n",
    "</div>\n",
    "    \n",
    "<div style=\"direction:rtl;line-height:300%;\"><font face=\"XB Zar\" size=3>    \n",
    "    </div>"
   ]
  },
  {
   "cell_type": "code",
   "execution_count": null,
   "id": "dceb643e-cd24-4350-b394-f6ef4512370f",
   "metadata": {},
   "outputs": [],
   "source": []
  }
 ],
 "metadata": {
  "kernelspec": {
   "display_name": "Python 3 (ipykernel)",
   "language": "python",
   "name": "python3"
  },
  "language_info": {
   "codemirror_mode": {
    "name": "ipython",
    "version": 3
   },
   "file_extension": ".py",
   "mimetype": "text/x-python",
   "name": "python",
   "nbconvert_exporter": "python",
   "pygments_lexer": "ipython3",
   "version": "3.9.13"
  }
 },
 "nbformat": 4,
 "nbformat_minor": 5
}
